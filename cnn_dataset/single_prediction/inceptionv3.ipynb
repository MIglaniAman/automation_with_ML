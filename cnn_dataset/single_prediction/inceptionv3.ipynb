{
 "cells": [
  {
   "cell_type": "code",
   "execution_count": 1,
   "metadata": {},
   "outputs": [],
   "source": [
    "from keras.applications import inception_v3"
   ]
  },
  {
   "cell_type": "code",
   "execution_count": 2,
   "metadata": {},
   "outputs": [
    {
     "name": "stdout",
     "output_type": "stream",
     "text": [
      "Downloading data from https://github.com/fchollet/deep-learning-models/releases/download/v0.5/inception_v3_weights_tf_dim_ordering_tf_kernels.h5\n",
      "96116736/96112376 [==============================] - 390s 4us/step\n"
     ]
    }
   ],
   "source": [
    " model= inception_v3.InceptionV3(weights='imagenet')"
   ]
  },
  {
   "cell_type": "code",
   "execution_count": 3,
   "metadata": {},
   "outputs": [
    {
     "data": {
      "text/plain": [
       "[<keras.engine.input_layer.InputLayer at 0x273562f1908>,\n",
       " <keras.layers.convolutional.Conv2D at 0x27356293b88>,\n",
       " <keras.layers.normalization.BatchNormalization at 0x273562ee3c8>,\n",
       " <keras.layers.core.Activation at 0x273564b3e48>,\n",
       " <keras.layers.convolutional.Conv2D at 0x27356495508>,\n",
       " <keras.layers.normalization.BatchNormalization at 0x273564d0048>,\n",
       " <keras.layers.core.Activation at 0x27356578c08>,\n",
       " <keras.layers.convolutional.Conv2D at 0x27356578148>,\n",
       " <keras.layers.normalization.BatchNormalization at 0x273565ace48>,\n",
       " <keras.layers.core.Activation at 0x273565c0988>,\n",
       " <keras.layers.pooling.MaxPooling2D at 0x27356578708>,\n",
       " <keras.layers.convolutional.Conv2D at 0x273565fafc8>,\n",
       " <keras.layers.normalization.BatchNormalization at 0x27356673248>,\n",
       " <keras.layers.core.Activation at 0x27356673288>,\n",
       " <keras.layers.convolutional.Conv2D at 0x2735667adc8>,\n",
       " <keras.layers.normalization.BatchNormalization at 0x273566bae08>,\n",
       " <keras.layers.core.Activation at 0x273566fa388>,\n",
       " <keras.layers.pooling.MaxPooling2D at 0x273566f73c8>,\n",
       " <keras.layers.convolutional.Conv2D at 0x2735686df48>,\n",
       " <keras.layers.normalization.BatchNormalization at 0x27356893188>,\n",
       " <keras.layers.core.Activation at 0x273568bf508>,\n",
       " <keras.layers.convolutional.Conv2D at 0x273567711c8>,\n",
       " <keras.layers.convolutional.Conv2D at 0x273568f2788>,\n",
       " <keras.layers.normalization.BatchNormalization at 0x273567a01c8>,\n",
       " <keras.layers.normalization.BatchNormalization at 0x2735692f588>,\n",
       " <keras.layers.core.Activation at 0x273567fa2c8>,\n",
       " <keras.layers.core.Activation at 0x273569689c8>,\n",
       " <keras.layers.pooling.AveragePooling2D at 0x273569ee388>,\n",
       " <keras.layers.convolutional.Conv2D at 0x2735670e8c8>,\n",
       " <keras.layers.convolutional.Conv2D at 0x273567f7248>,\n",
       " <keras.layers.convolutional.Conv2D at 0x273569711c8>,\n",
       " <keras.layers.convolutional.Conv2D at 0x27356a1dcc8>,\n",
       " <keras.layers.normalization.BatchNormalization at 0x27356742548>,\n",
       " <keras.layers.normalization.BatchNormalization at 0x2735681aac8>,\n",
       " <keras.layers.normalization.BatchNormalization at 0x2735652dd08>,\n",
       " <keras.layers.normalization.BatchNormalization at 0x27356a16948>,\n",
       " <keras.layers.core.Activation at 0x27356771408>,\n",
       " <keras.layers.core.Activation at 0x27356878c08>,\n",
       " <keras.layers.core.Activation at 0x273569e7bc8>,\n",
       " <keras.layers.core.Activation at 0x27356a6bb48>,\n",
       " <keras.layers.merge.Concatenate at 0x27356a6b348>,\n",
       " <keras.layers.convolutional.Conv2D at 0x27356d080c8>,\n",
       " <keras.layers.normalization.BatchNormalization at 0x27356d389c8>,\n",
       " <keras.layers.core.Activation at 0x27356d842c8>,\n",
       " <keras.layers.convolutional.Conv2D at 0x27356afdf48>,\n",
       " <keras.layers.convolutional.Conv2D at 0x27356d81b08>,\n",
       " <keras.layers.normalization.BatchNormalization at 0x27356c20048>,\n",
       " <keras.layers.normalization.BatchNormalization at 0x27356dbc848>,\n",
       " <keras.layers.core.Activation at 0x27356c50c08>,\n",
       " <keras.layers.core.Activation at 0x27356df9b48>,\n",
       " <keras.layers.pooling.AveragePooling2D at 0x27356e9a688>,\n",
       " <keras.layers.convolutional.Conv2D at 0x27356a7b688>,\n",
       " <keras.layers.convolutional.Conv2D at 0x27356c87748>,\n",
       " <keras.layers.convolutional.Conv2D at 0x27356e00648>,\n",
       " <keras.layers.convolutional.Conv2D at 0x27356e7ac48>,\n",
       " <keras.layers.normalization.BatchNormalization at 0x27356af2a88>,\n",
       " <keras.layers.normalization.BatchNormalization at 0x27356cba588>,\n",
       " <keras.layers.normalization.BatchNormalization at 0x27356e2de88>,\n",
       " <keras.layers.normalization.BatchNormalization at 0x27356ef1e08>,\n",
       " <keras.layers.core.Activation at 0x27356af2c88>,\n",
       " <keras.layers.core.Activation at 0x27356cd90c8>,\n",
       " <keras.layers.core.Activation at 0x27356e49408>,\n",
       " <keras.layers.core.Activation at 0x27356ea6488>,\n",
       " <keras.layers.merge.Concatenate at 0x27356efc148>,\n",
       " <keras.layers.convolutional.Conv2D at 0x2735643b548>,\n",
       " <keras.layers.normalization.BatchNormalization at 0x273564bf848>,\n",
       " <keras.layers.core.Activation at 0x273564cbf08>,\n",
       " <keras.layers.convolutional.Conv2D at 0x27356f81488>,\n",
       " <keras.layers.convolutional.Conv2D at 0x273565c8bc8>,\n",
       " <keras.layers.normalization.BatchNormalization at 0x27356fa7488>,\n",
       " <keras.layers.normalization.BatchNormalization at 0x2735666ee48>,\n",
       " <keras.layers.core.Activation at 0x27356ff5748>,\n",
       " <keras.layers.core.Activation at 0x273568dd988>,\n",
       " <keras.layers.pooling.AveragePooling2D at 0x27356e7ba88>,\n",
       " <keras.layers.convolutional.Conv2D at 0x27356f0ff88>,\n",
       " <keras.layers.convolutional.Conv2D at 0x27356ffc188>,\n",
       " <keras.layers.convolutional.Conv2D at 0x27356ae17c8>,\n",
       " <keras.layers.convolutional.Conv2D at 0x27356ff9f88>,\n",
       " <keras.layers.normalization.BatchNormalization at 0x27356f76388>,\n",
       " <keras.layers.normalization.BatchNormalization at 0x273562a91c8>,\n",
       " <keras.layers.normalization.BatchNormalization at 0x27356d76248>,\n",
       " <keras.layers.normalization.BatchNormalization at 0x27357146f08>,\n",
       " <keras.layers.core.Activation at 0x27356f76548>,\n",
       " <keras.layers.core.Activation at 0x273563f7788>,\n",
       " <keras.layers.core.Activation at 0x27356d86c08>,\n",
       " <keras.layers.core.Activation at 0x27356fe3508>,\n",
       " <keras.layers.merge.Concatenate at 0x2735714a808>,\n",
       " <keras.layers.convolutional.Conv2D at 0x27356b32948>,\n",
       " <keras.layers.normalization.BatchNormalization at 0x27356b4f788>,\n",
       " <keras.layers.core.Activation at 0x27356b77d48>,\n",
       " <keras.layers.convolutional.Conv2D at 0x27356b7ec08>,\n",
       " <keras.layers.normalization.BatchNormalization at 0x27356b8f888>,\n",
       " <keras.layers.core.Activation at 0x27356ba6f48>,\n",
       " <keras.layers.convolutional.Conv2D at 0x2735715a388>,\n",
       " <keras.layers.convolutional.Conv2D at 0x27356bcb488>,\n",
       " <keras.layers.normalization.BatchNormalization at 0x27356b32088>,\n",
       " <keras.layers.normalization.BatchNormalization at 0x27356beb748>,\n",
       " <keras.layers.core.Activation at 0x27356b324c8>,\n",
       " <keras.layers.core.Activation at 0x27356c0af88>,\n",
       " <keras.layers.pooling.MaxPooling2D at 0x27358130c88>,\n",
       " <keras.layers.merge.Concatenate at 0x273570eb048>,\n",
       " <keras.layers.convolutional.Conv2D at 0x2735821da48>,\n",
       " <keras.layers.normalization.BatchNormalization at 0x27358230d48>,\n",
       " <keras.layers.core.Activation at 0x27358230f08>,\n",
       " <keras.layers.convolutional.Conv2D at 0x27358271c48>,\n",
       " <keras.layers.normalization.BatchNormalization at 0x2735827ce08>,\n",
       " <keras.layers.core.Activation at 0x273582aebc8>,\n",
       " <keras.layers.convolutional.Conv2D at 0x273570ab808>,\n",
       " <keras.layers.convolutional.Conv2D at 0x273582cf788>,\n",
       " <keras.layers.normalization.BatchNormalization at 0x2735706bf48>,\n",
       " <keras.layers.normalization.BatchNormalization at 0x273582cb448>,\n",
       " <keras.layers.core.Activation at 0x27356b8f148>,\n",
       " <keras.layers.core.Activation at 0x273582f9cc8>,\n",
       " <keras.layers.convolutional.Conv2D at 0x2735647b248>,\n",
       " <keras.layers.convolutional.Conv2D at 0x27358302648>,\n",
       " <keras.layers.normalization.BatchNormalization at 0x273581af948>,\n",
       " <keras.layers.normalization.BatchNormalization at 0x27358319f48>,\n",
       " <keras.layers.core.Activation at 0x273581b3f48>,\n",
       " <keras.layers.core.Activation at 0x2735832af08>,\n",
       " <keras.layers.pooling.AveragePooling2D at 0x27358398308>,\n",
       " <keras.layers.convolutional.Conv2D at 0x273570f0608>,\n",
       " <keras.layers.convolutional.Conv2D at 0x273581da548>,\n",
       " <keras.layers.convolutional.Conv2D at 0x2735834c688>,\n",
       " <keras.layers.convolutional.Conv2D at 0x273583ad888>,\n",
       " <keras.layers.normalization.BatchNormalization at 0x273570ab308>,\n",
       " <keras.layers.normalization.BatchNormalization at 0x273581fdf08>,\n",
       " <keras.layers.normalization.BatchNormalization at 0x2735836b9c8>,\n",
       " <keras.layers.normalization.BatchNormalization at 0x273583a58c8>,\n",
       " <keras.layers.core.Activation at 0x273570abc48>,\n",
       " <keras.layers.core.Activation at 0x273581ead08>,\n",
       " <keras.layers.core.Activation at 0x27358373c08>,\n",
       " <keras.layers.core.Activation at 0x273583e3d48>,\n",
       " <keras.layers.merge.Concatenate at 0x273583e3408>,\n",
       " <keras.layers.convolutional.Conv2D at 0x2735850e6c8>,\n",
       " <keras.layers.normalization.BatchNormalization at 0x2735852fa08>,\n",
       " <keras.layers.core.Activation at 0x27358537c48>,\n",
       " <keras.layers.convolutional.Conv2D at 0x27358559188>,\n",
       " <keras.layers.normalization.BatchNormalization at 0x2735857df48>,\n",
       " <keras.layers.core.Activation at 0x27358569048>,\n",
       " <keras.layers.convolutional.Conv2D at 0x2735842c5c8>,\n",
       " <keras.layers.convolutional.Conv2D at 0x2735859f308>,\n",
       " <keras.layers.normalization.BatchNormalization at 0x2735843d3c8>,\n",
       " <keras.layers.normalization.BatchNormalization at 0x273585af208>,\n",
       " <keras.layers.core.Activation at 0x2735846edc8>,\n",
       " <keras.layers.core.Activation at 0x273585c9c08>,\n",
       " <keras.layers.convolutional.Conv2D at 0x27358475bc8>,\n",
       " <keras.layers.convolutional.Conv2D at 0x273585f2c88>,\n",
       " <keras.layers.normalization.BatchNormalization at 0x27358488b48>,\n",
       " <keras.layers.normalization.BatchNormalization at 0x273585fbd08>,\n",
       " <keras.layers.core.Activation at 0x273584b9cc8>,\n",
       " <keras.layers.core.Activation at 0x2735862edc8>,\n",
       " <keras.layers.pooling.AveragePooling2D at 0x27358680688>,\n",
       " <keras.layers.convolutional.Conv2D at 0x273583da688>,\n",
       " <keras.layers.convolutional.Conv2D at 0x273584c1688>,\n",
       " <keras.layers.convolutional.Conv2D at 0x27358634bc8>,\n",
       " <keras.layers.convolutional.Conv2D at 0x2735868fd08>,\n",
       " <keras.layers.normalization.BatchNormalization at 0x273584257c8>,\n",
       " <keras.layers.normalization.BatchNormalization at 0x273584dff88>,\n",
       " <keras.layers.normalization.BatchNormalization at 0x27358648288>,\n",
       " <keras.layers.normalization.BatchNormalization at 0x273586956c8>,\n",
       " <keras.layers.core.Activation at 0x27358425888>,\n",
       " <keras.layers.core.Activation at 0x273584ebfc8>,\n",
       " <keras.layers.core.Activation at 0x27358679cc8>,\n",
       " <keras.layers.core.Activation at 0x273586c5708>,\n",
       " <keras.layers.merge.Concatenate at 0x273586c5788>,\n",
       " <keras.layers.convolutional.Conv2D at 0x273587f6c48>,\n",
       " <keras.layers.normalization.BatchNormalization at 0x273588099c8>,\n",
       " <keras.layers.core.Activation at 0x2735883be08>,\n",
       " <keras.layers.convolutional.Conv2D at 0x273588439c8>,\n",
       " <keras.layers.normalization.BatchNormalization at 0x27358860408>,\n",
       " <keras.layers.core.Activation at 0x2735886cfc8>,\n",
       " <keras.layers.convolutional.Conv2D at 0x2735871ca08>,\n",
       " <keras.layers.convolutional.Conv2D at 0x2735888d748>,\n",
       " <keras.layers.normalization.BatchNormalization at 0x2735873a7c8>,\n",
       " <keras.layers.normalization.BatchNormalization at 0x273588aba48>,\n",
       " <keras.layers.core.Activation at 0x2735873dc08>,\n",
       " <keras.layers.core.Activation at 0x273588b6dc8>,\n",
       " <keras.layers.convolutional.Conv2D at 0x2735875df08>,\n",
       " <keras.layers.convolutional.Conv2D at 0x273588d8488>,\n",
       " <keras.layers.normalization.BatchNormalization at 0x2735877e288>,\n",
       " <keras.layers.normalization.BatchNormalization at 0x2735bc47808>,\n",
       " <keras.layers.core.Activation at 0x27358788d88>,\n",
       " <keras.layers.core.Activation at 0x2735bc4cc48>,\n",
       " <keras.layers.pooling.AveragePooling2D at 0x2735bcb8dc8>,\n",
       " <keras.layers.convolutional.Conv2D at 0x273586cc048>,\n",
       " <keras.layers.convolutional.Conv2D at 0x273587aac08>,\n",
       " <keras.layers.convolutional.Conv2D at 0x2735bc6cbc8>,\n",
       " <keras.layers.convolutional.Conv2D at 0x2735bcd69c8>,\n",
       " <keras.layers.normalization.BatchNormalization at 0x2735871ce88>,\n",
       " <keras.layers.normalization.BatchNormalization at 0x273587bd408>,\n",
       " <keras.layers.normalization.BatchNormalization at 0x2735bc80888>,\n",
       " <keras.layers.normalization.BatchNormalization at 0x2735bcfee08>,\n",
       " <keras.layers.core.Activation at 0x2735871cf48>,\n",
       " <keras.layers.core.Activation at 0x273587efe08>,\n",
       " <keras.layers.core.Activation at 0x2735bc97e08>,\n",
       " <keras.layers.core.Activation at 0x2735bcccc48>,\n",
       " <keras.layers.merge.Concatenate at 0x2735bd04dc8>,\n",
       " <keras.layers.convolutional.Conv2D at 0x2735be2ffc8>,\n",
       " <keras.layers.normalization.BatchNormalization at 0x2735be438c8>,\n",
       " <keras.layers.core.Activation at 0x2735be58ec8>,\n",
       " <keras.layers.convolutional.Conv2D at 0x2735be78dc8>,\n",
       " <keras.layers.normalization.BatchNormalization at 0x2735be96108>,\n",
       " <keras.layers.core.Activation at 0x2735bebee48>,\n",
       " <keras.layers.convolutional.Conv2D at 0x2735bd56f08>,\n",
       " <keras.layers.convolutional.Conv2D at 0x2735bec5c88>,\n",
       " <keras.layers.normalization.BatchNormalization at 0x2735bd70048>,\n",
       " <keras.layers.normalization.BatchNormalization at 0x2735bed8388>,\n",
       " <keras.layers.core.Activation at 0x2735bd7ce88>,\n",
       " <keras.layers.core.Activation at 0x2735bf08d48>,\n",
       " <keras.layers.convolutional.Conv2D at 0x2735bd9e848>,\n",
       " <keras.layers.convolutional.Conv2D at 0x2735bf1ff88>,\n",
       " <keras.layers.normalization.BatchNormalization at 0x2735bdbae48>,\n",
       " <keras.layers.normalization.BatchNormalization at 0x2735bf27188>,\n",
       " <keras.layers.core.Activation at 0x2735bdc6bc8>,\n",
       " <keras.layers.core.Activation at 0x2735bf39708>,\n",
       " <keras.layers.pooling.AveragePooling2D at 0x2735cf785c8>,\n",
       " <keras.layers.convolutional.Conv2D at 0x2735bd0be88>,\n",
       " <keras.layers.convolutional.Conv2D at 0x2735bdea508>,\n",
       " <keras.layers.convolutional.Conv2D at 0x2735bf55e48>,\n",
       " <keras.layers.convolutional.Conv2D at 0x2735cf84c48>,\n",
       " <keras.layers.normalization.BatchNormalization at 0x2735bd56e88>,\n",
       " <keras.layers.normalization.BatchNormalization at 0x2735be098c8>,\n",
       " <keras.layers.normalization.BatchNormalization at 0x2735bf76ec8>,\n",
       " <keras.layers.normalization.BatchNormalization at 0x2735cf97a48>,\n",
       " <keras.layers.core.Activation at 0x2735bd56dc8>,\n",
       " <keras.layers.core.Activation at 0x2735be0dec8>,\n",
       " <keras.layers.core.Activation at 0x2735cf54c48>,\n",
       " <keras.layers.core.Activation at 0x2735cfc3688>,\n",
       " <keras.layers.merge.Concatenate at 0x2735cfc3248>,\n",
       " <keras.layers.convolutional.Conv2D at 0x2735d05fc48>,\n",
       " <keras.layers.normalization.BatchNormalization at 0x2735d06acc8>,\n",
       " <keras.layers.core.Activation at 0x2735d09ac88>,\n",
       " <keras.layers.convolutional.Conv2D at 0x2735d0adf88>,\n",
       " <keras.layers.normalization.BatchNormalization at 0x2735d0a1888>,\n",
       " <keras.layers.core.Activation at 0x2735d0e6cc8>,\n",
       " <keras.layers.convolutional.Conv2D at 0x2735cfdde08>,\n",
       " <keras.layers.convolutional.Conv2D at 0x2735d0ed648>,\n",
       " <keras.layers.normalization.BatchNormalization at 0x2735d005cc8>,\n",
       " <keras.layers.normalization.BatchNormalization at 0x2735d109f48>,\n",
       " <keras.layers.core.Activation at 0x2735d005bc8>,\n",
       " <keras.layers.core.Activation at 0x2735d116f08>,\n",
       " <keras.layers.convolutional.Conv2D at 0x2735d00c708>,\n",
       " <keras.layers.convolutional.Conv2D at 0x2735d13a688>,\n",
       " <keras.layers.normalization.BatchNormalization at 0x2735d02a408>,\n",
       " <keras.layers.normalization.BatchNormalization at 0x2735d1589c8>,\n",
       " <keras.layers.core.Activation at 0x2735d02a7c8>,\n",
       " <keras.layers.core.Activation at 0x2735d161c08>,\n",
       " <keras.layers.pooling.MaxPooling2D at 0x2735d184308>,\n",
       " <keras.layers.merge.Concatenate at 0x2735d184ec8>,\n",
       " <keras.layers.convolutional.Conv2D at 0x2735d2bce48>,\n",
       " <keras.layers.normalization.BatchNormalization at 0x2735d2f3948>,\n",
       " <keras.layers.core.Activation at 0x2735d2f3788>,\n",
       " <keras.layers.convolutional.Conv2D at 0x2735d1c9548>,\n",
       " <keras.layers.convolutional.Conv2D at 0x2735d2fb588>,\n",
       " <keras.layers.normalization.BatchNormalization at 0x2735d1ef8c8>,\n",
       " <keras.layers.normalization.BatchNormalization at 0x2735d30c388>,\n",
       " <keras.layers.core.Activation at 0x2735d1f6dc8>,\n",
       " <keras.layers.core.Activation at 0x2735d33de48>,\n",
       " <keras.layers.convolutional.Conv2D at 0x2735d217c08>,\n",
       " <keras.layers.convolutional.Conv2D at 0x2735d265c48>,\n",
       " <keras.layers.convolutional.Conv2D at 0x2735d345c88>,\n",
       " <keras.layers.convolutional.Conv2D at 0x2735d39ef88>,\n",
       " <keras.layers.pooling.AveragePooling2D at 0x2735d3dcb48>,\n",
       " <keras.layers.convolutional.Conv2D at 0x2735d1a4748>,\n",
       " <keras.layers.normalization.BatchNormalization at 0x2735d22e808>,\n",
       " <keras.layers.normalization.BatchNormalization at 0x2735d2779c8>,\n",
       " <keras.layers.normalization.BatchNormalization at 0x2735d357388>,\n",
       " <keras.layers.normalization.BatchNormalization at 0x2735d3a6188>,\n",
       " <keras.layers.convolutional.Conv2D at 0x2735d3f0148>,\n",
       " <keras.layers.normalization.BatchNormalization at 0x2735d1c9a88>,\n",
       " <keras.layers.core.Activation at 0x2735d25de08>,\n",
       " <keras.layers.core.Activation at 0x2735d2a9e08>,\n",
       " <keras.layers.core.Activation at 0x2735d386d48>,\n",
       " <keras.layers.core.Activation at 0x2735d3b8708>,\n",
       " <keras.layers.normalization.BatchNormalization at 0x2735d41e808>,\n",
       " <keras.layers.core.Activation at 0x2735d1c9448>,\n",
       " <keras.layers.merge.Concatenate at 0x2735d2b09c8>,\n",
       " <keras.layers.merge.Concatenate at 0x2735d3d3e48>,\n",
       " <keras.layers.core.Activation at 0x2735d41ec08>,\n",
       " <keras.layers.merge.Concatenate at 0x2735d426308>,\n",
       " <keras.layers.convolutional.Conv2D at 0x2735d90e4c8>,\n",
       " <keras.layers.normalization.BatchNormalization at 0x2735d939408>,\n",
       " <keras.layers.core.Activation at 0x2735d939b48>,\n",
       " <keras.layers.convolutional.Conv2D at 0x2735d475588>,\n",
       " <keras.layers.convolutional.Conv2D at 0x2735d939a48>,\n",
       " <keras.layers.normalization.BatchNormalization at 0x2735d484808>,\n",
       " <keras.layers.normalization.BatchNormalization at 0x2735d95d148>,\n",
       " <keras.layers.core.Activation at 0x2735d4b5dc8>,\n",
       " <keras.layers.core.Activation at 0x2735d969f48>,\n",
       " <keras.layers.convolutional.Conv2D at 0x2735d4bd948>,\n",
       " <keras.layers.convolutional.Conv2D at 0x2735d8a86c8>,\n",
       " <keras.layers.convolutional.Conv2D at 0x2735d98c7c8>,\n",
       " <keras.layers.convolutional.Conv2D at 0x2735d9d64c8>,\n",
       " <keras.layers.pooling.AveragePooling2D at 0x2735dbe2608>,\n",
       " <keras.layers.convolutional.Conv2D at 0x2735d439648>,\n",
       " <keras.layers.normalization.BatchNormalization at 0x2735d879f88>,\n",
       " <keras.layers.normalization.BatchNormalization at 0x2735d8caa08>,\n",
       " <keras.layers.normalization.BatchNormalization at 0x2735d9a8e08>,\n",
       " <keras.layers.normalization.BatchNormalization at 0x2735dbb5888>,\n",
       " <keras.layers.convolutional.Conv2D at 0x2735dbf9d88>,\n",
       " <keras.layers.normalization.BatchNormalization at 0x2735d475fc8>,\n",
       " <keras.layers.core.Activation at 0x2735d887fc8>,\n",
       " <keras.layers.core.Activation at 0x2735d8d3c48>,\n",
       " <keras.layers.core.Activation at 0x2735d9b5b88>,\n",
       " <keras.layers.core.Activation at 0x2735dbbacc8>,\n",
       " <keras.layers.normalization.BatchNormalization at 0x2735dc27c88>,\n",
       " <keras.layers.core.Activation at 0x2735d475e48>,\n",
       " <keras.layers.merge.Concatenate at 0x2735d8f5188>,\n",
       " <keras.layers.merge.Concatenate at 0x2735dbdb548>,\n",
       " <keras.layers.core.Activation at 0x2735dc27d88>,\n",
       " <keras.layers.merge.Concatenate at 0x2735dc27e08>,\n",
       " <keras.layers.pooling.GlobalAveragePooling2D at 0x2735dc3aec8>,\n",
       " <keras.layers.core.Dense at 0x2735dc49348>]"
      ]
     },
     "execution_count": 3,
     "metadata": {},
     "output_type": "execute_result"
    }
   ],
   "source": [
    " model.layers"
   ]
  },
  {
   "cell_type": "code",
   "execution_count": 4,
   "metadata": {},
   "outputs": [
    {
     "data": {
      "text/plain": [
       "<tf.Tensor 'input_1:0' shape=(None, 299, 299, 3) dtype=float32>"
      ]
     },
     "execution_count": 4,
     "metadata": {},
     "output_type": "execute_result"
    }
   ],
   "source": [
    "model.layers[0].input"
   ]
  },
  {
   "cell_type": "code",
   "execution_count": 7,
   "metadata": {},
   "outputs": [],
   "source": [
    "from keras.preprocessing import image"
   ]
  },
  {
   "cell_type": "code",
   "execution_count": 8,
   "metadata": {},
   "outputs": [],
   "source": [
    "    img = image.load_img('cat_or_dog_1.jpg',target_size=(299, 299))"
   ]
  },
  {
   "cell_type": "code",
   "execution_count": 9,
   "metadata": {},
   "outputs": [
    {
     "data": {
      "text/plain": [
       "PIL.Image.Image"
      ]
     },
     "execution_count": 9,
     "metadata": {},
     "output_type": "execute_result"
    }
   ],
   "source": [
    "type(img)"
   ]
  },
  {
   "cell_type": "code",
   "execution_count": 10,
   "metadata": {},
   "outputs": [],
   "source": [
    "img_np=image.img_to_array(img)"
   ]
  },
  {
   "cell_type": "code",
   "execution_count": 11,
   "metadata": {},
   "outputs": [],
   "source": [
    "import numpy as np"
   ]
  },
  {
   "cell_type": "code",
   "execution_count": 12,
   "metadata": {},
   "outputs": [],
   "source": [
    "img_4d =np.expand_dims(img_np,axis=0)"
   ]
  },
  {
   "cell_type": "code",
   "execution_count": 13,
   "metadata": {},
   "outputs": [
    {
     "data": {
      "text/plain": [
       "(1, 299, 299, 3)"
      ]
     },
     "execution_count": 13,
     "metadata": {},
     "output_type": "execute_result"
    }
   ],
   "source": [
    "img_4d.shape"
   ]
  },
  {
   "cell_type": "code",
   "execution_count": 14,
   "metadata": {},
   "outputs": [],
   "source": [
    "from keras.applications.inception_v3 import decode_predictions"
   ]
  },
  {
   "cell_type": "code",
   "execution_count": 15,
   "metadata": {},
   "outputs": [],
   "source": [
    "from keras.applications.inception_v3 import preprocess_input"
   ]
  },
  {
   "cell_type": "code",
   "execution_count": 16,
   "metadata": {},
   "outputs": [],
   "source": [
    "imgnew = preprocess_input(img_4d)"
   ]
  },
  {
   "cell_type": "code",
   "execution_count": 17,
   "metadata": {},
   "outputs": [],
   "source": [
    "pred = model.predict(imgnew)"
   ]
  },
  {
   "cell_type": "code",
   "execution_count": 18,
   "metadata": {},
   "outputs": [
    {
     "data": {
      "text/plain": [
       "[('n02099712', 'Labrador_retriever', 0.5143932),\n",
       " ('n02099601', 'golden_retriever', 0.28467888),\n",
       " ('n04409515', 'tennis_ball', 0.0067182034)]"
      ]
     },
     "execution_count": 18,
     "metadata": {},
     "output_type": "execute_result"
    }
   ],
   "source": [
    "decode_predictions(pred,top=3)[0]"
   ]
  },
  {
   "cell_type": "code",
   "execution_count": null,
   "metadata": {},
   "outputs": [],
   "source": []
  }
 ],
 "metadata": {
  "kernelspec": {
   "display_name": "Python 3",
   "language": "python",
   "name": "python3"
  },
  "language_info": {
   "codemirror_mode": {
    "name": "ipython",
    "version": 3
   },
   "file_extension": ".py",
   "mimetype": "text/x-python",
   "name": "python",
   "nbconvert_exporter": "python",
   "pygments_lexer": "ipython3",
   "version": "3.7.7"
  }
 },
 "nbformat": 4,
 "nbformat_minor": 4
}
