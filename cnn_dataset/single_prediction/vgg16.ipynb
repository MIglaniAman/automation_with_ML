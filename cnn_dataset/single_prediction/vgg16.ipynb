{
 "cells": [
  {
   "cell_type": "code",
   "execution_count": 2,
   "metadata": {},
   "outputs": [],
   "source": [
    "from keras.applications import vgg16"
   ]
  },
  {
   "cell_type": "code",
   "execution_count": 4,
   "metadata": {},
   "outputs": [],
   "source": [
    " model= vgg16.VGG16(weights='imagenet')"
   ]
  },
  {
   "cell_type": "code",
   "execution_count": 6,
   "metadata": {},
   "outputs": [
    {
     "data": {
      "text/plain": [
       "[<keras.engine.input_layer.InputLayer at 0x1823ca41688>,\n",
       " <keras.layers.convolutional.Conv2D at 0x1823ca41708>,\n",
       " <keras.layers.convolutional.Conv2D at 0x1823ca4b488>,\n",
       " <keras.layers.pooling.MaxPooling2D at 0x1823ca41e08>,\n",
       " <keras.layers.convolutional.Conv2D at 0x1823ca41908>,\n",
       " <keras.layers.convolutional.Conv2D at 0x1823ca34b08>,\n",
       " <keras.layers.pooling.MaxPooling2D at 0x1823ca45f88>,\n",
       " <keras.layers.convolutional.Conv2D at 0x1823ca67088>,\n",
       " <keras.layers.convolutional.Conv2D at 0x1823ca7adc8>,\n",
       " <keras.layers.convolutional.Conv2D at 0x1823ca81988>,\n",
       " <keras.layers.pooling.MaxPooling2D at 0x1823ca85e88>,\n",
       " <keras.layers.convolutional.Conv2D at 0x1823ca8ad88>,\n",
       " <keras.layers.convolutional.Conv2D at 0x1823ca8e288>,\n",
       " <keras.layers.convolutional.Conv2D at 0x1823ca95b08>,\n",
       " <keras.layers.pooling.MaxPooling2D at 0x1823ca9dfc8>,\n",
       " <keras.layers.convolutional.Conv2D at 0x1823ca9df48>,\n",
       " <keras.layers.convolutional.Conv2D at 0x1823caaa388>,\n",
       " <keras.layers.convolutional.Conv2D at 0x1823caafc88>,\n",
       " <keras.layers.pooling.MaxPooling2D at 0x1823cab3a48>,\n",
       " <keras.layers.core.Flatten at 0x1823caba7c8>,\n",
       " <keras.layers.core.Dense at 0x1823cabe9c8>,\n",
       " <keras.layers.core.Dense at 0x1823cac2748>,\n",
       " <keras.layers.core.Dense at 0x1823cac79c8>]"
      ]
     },
     "execution_count": 6,
     "metadata": {},
     "output_type": "execute_result"
    }
   ],
   "source": [
    " model.layers"
   ]
  },
  {
   "cell_type": "code",
   "execution_count": 7,
   "metadata": {},
   "outputs": [
    {
     "data": {
      "text/plain": [
       "<tf.Tensor 'input_2:0' shape=(None, 224, 224, 3) dtype=float32>"
      ]
     },
     "execution_count": 7,
     "metadata": {},
     "output_type": "execute_result"
    }
   ],
   "source": [
    "model.layers[0].input"
   ]
  },
  {
   "cell_type": "code",
   "execution_count": 8,
   "metadata": {},
   "outputs": [],
   "source": [
    "from keras.preprocessing import image"
   ]
  },
  {
   "cell_type": "code",
   "execution_count": 10,
   "metadata": {},
   "outputs": [],
   "source": [
    "    img = image.load_img('cat_or_dog_1.jpg',target_size=(224, 224))"
   ]
  },
  {
   "cell_type": "code",
   "execution_count": 11,
   "metadata": {},
   "outputs": [
    {
     "data": {
      "text/plain": [
       "PIL.Image.Image"
      ]
     },
     "execution_count": 11,
     "metadata": {},
     "output_type": "execute_result"
    }
   ],
   "source": [
    "type(img)"
   ]
  },
  {
   "cell_type": "code",
   "execution_count": 13,
   "metadata": {},
   "outputs": [],
   "source": [
    "img_np=image.img_to_array(img)"
   ]
  },
  {
   "cell_type": "code",
   "execution_count": 14,
   "metadata": {},
   "outputs": [],
   "source": [
    "import numpy as np"
   ]
  },
  {
   "cell_type": "code",
   "execution_count": 16,
   "metadata": {},
   "outputs": [],
   "source": [
    "img_4d =np.expand_dims(img_np,axis=0)"
   ]
  },
  {
   "cell_type": "code",
   "execution_count": 18,
   "metadata": {},
   "outputs": [
    {
     "data": {
      "text/plain": [
       "(1, 224, 224, 3)"
      ]
     },
     "execution_count": 18,
     "metadata": {},
     "output_type": "execute_result"
    }
   ],
   "source": [
    "img_4d.shape"
   ]
  },
  {
   "cell_type": "code",
   "execution_count": 20,
   "metadata": {},
   "outputs": [],
   "source": [
    "from keras.applications.vgg16 import decode_predictions"
   ]
  },
  {
   "cell_type": "code",
   "execution_count": 25,
   "metadata": {},
   "outputs": [],
   "source": [
    "from keras.applications.vgg16 import preprocess_input"
   ]
  },
  {
   "cell_type": "code",
   "execution_count": 26,
   "metadata": {},
   "outputs": [],
   "source": [
    "imgnew = preprocess_input(img_4d)"
   ]
  },
  {
   "cell_type": "code",
   "execution_count": 27,
   "metadata": {},
   "outputs": [],
   "source": [
    "pred = model.predict(imgnew)"
   ]
  },
  {
   "cell_type": "code",
   "execution_count": 28,
   "metadata": {},
   "outputs": [
    {
     "data": {
      "text/plain": [
       "[[('n02099712', 'Labrador_retriever', 0.596779),\n",
       "  ('n02099601', 'golden_retriever', 0.24647368),\n",
       "  ('n02108551', 'Tibetan_mastiff', 0.028863396)]]"
      ]
     },
     "execution_count": 28,
     "metadata": {},
     "output_type": "execute_result"
    }
   ],
   "source": [
    "decode_predictions(pred,top=3)"
   ]
  },
  {
   "cell_type": "code",
   "execution_count": null,
   "metadata": {},
   "outputs": [],
   "source": []
  }
 ],
 "metadata": {
  "kernelspec": {
   "display_name": "Python 3",
   "language": "python",
   "name": "python3"
  },
  "language_info": {
   "codemirror_mode": {
    "name": "ipython",
    "version": 3
   },
   "file_extension": ".py",
   "mimetype": "text/x-python",
   "name": "python",
   "nbconvert_exporter": "python",
   "pygments_lexer": "ipython3",
   "version": "3.7.7"
  }
 },
 "nbformat": 4,
 "nbformat_minor": 4
}
