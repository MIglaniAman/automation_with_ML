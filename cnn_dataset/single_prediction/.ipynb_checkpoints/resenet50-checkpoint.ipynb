{
 "cells": [
  {
   "cell_type": "code",
   "execution_count": 1,
   "metadata": {},
   "outputs": [],
   "source": [
    "from keras.applications import resnet50"
   ]
  },
  {
   "cell_type": "code",
   "execution_count": 3,
   "metadata": {},
   "outputs": [
    {
     "name": "stdout",
     "output_type": "stream",
     "text": [
      "Downloading data from https://github.com/fchollet/deep-learning-models/releases/download/v0.2/resnet50_weights_tf_dim_ordering_tf_kernels.h5\n",
      "102858752/102853048 [==============================] - 144s 1us/step\n"
     ]
    }
   ],
   "source": [
    "model= resnet50.ResNet50(weights='imagenet')"
   ]
  },
  {
   "cell_type": "code",
   "execution_count": 4,
   "metadata": {},
   "outputs": [
    {
     "data": {
      "text/plain": [
       "[<keras.engine.input_layer.InputLayer at 0x1bc82525f88>,\n",
       " <keras.layers.convolutional.ZeroPadding2D at 0x1bc81995248>,\n",
       " <keras.layers.convolutional.Conv2D at 0x1bc82525a48>,\n",
       " <keras.layers.normalization.BatchNormalization at 0x1bcf81d5dc8>,\n",
       " <keras.layers.core.Activation at 0x1bcf81f9748>,\n",
       " <keras.layers.convolutional.ZeroPadding2D at 0x1bc825307c8>,\n",
       " <keras.layers.pooling.MaxPooling2D at 0x1bc82548748>,\n",
       " <keras.layers.convolutional.Conv2D at 0x1bc82580648>,\n",
       " <keras.layers.normalization.BatchNormalization at 0x1bc825801c8>,\n",
       " <keras.layers.core.Activation at 0x1bc825805c8>,\n",
       " <keras.layers.convolutional.Conv2D at 0x1bc82587648>,\n",
       " <keras.layers.normalization.BatchNormalization at 0x1bc8259bdc8>,\n",
       " <keras.layers.core.Activation at 0x1bc825adb48>,\n",
       " <keras.layers.convolutional.Conv2D at 0x1bc825d8188>,\n",
       " <keras.layers.convolutional.Conv2D at 0x1bc82626f48>,\n",
       " <keras.layers.normalization.BatchNormalization at 0x1bc825eebc8>,\n",
       " <keras.layers.normalization.BatchNormalization at 0x1bc82640c88>,\n",
       " <keras.layers.merge.Add at 0x1bc8265b388>,\n",
       " <keras.layers.core.Activation at 0x1bc82684ac8>,\n",
       " <keras.layers.convolutional.Conv2D at 0x1bc826841c8>,\n",
       " <keras.layers.normalization.BatchNormalization at 0x1bc826cce08>,\n",
       " <keras.layers.core.Activation at 0x1bc826ccf88>,\n",
       " <keras.layers.convolutional.Conv2D at 0x1bc826d3848>,\n",
       " <keras.layers.normalization.BatchNormalization at 0x1bc826eea48>,\n",
       " <keras.layers.core.Activation at 0x1bc826fdd08>,\n",
       " <keras.layers.convolutional.Conv2D at 0x1bc8272ff08>,\n",
       " <keras.layers.normalization.BatchNormalization at 0x1bc8273f808>,\n",
       " <keras.layers.merge.Add at 0x1bc827529c8>,\n",
       " <keras.layers.core.Activation at 0x1bc82779d88>,\n",
       " <keras.layers.convolutional.Conv2D at 0x1bc82779d48>,\n",
       " <keras.layers.normalization.BatchNormalization at 0x1bc827d9c08>,\n",
       " <keras.layers.core.Activation at 0x1bc827d9c48>,\n",
       " <keras.layers.convolutional.Conv2D at 0x1bc827d9a08>,\n",
       " <keras.layers.normalization.BatchNormalization at 0x1bc827f7e48>,\n",
       " <keras.layers.core.Activation at 0x1bc827f7d88>,\n",
       " <keras.layers.convolutional.Conv2D at 0x1bc8282adc8>,\n",
       " <keras.layers.normalization.BatchNormalization at 0x1bc82840508>,\n",
       " <keras.layers.merge.Add at 0x1bc8284ae08>,\n",
       " <keras.layers.core.Activation at 0x1bc82880b08>,\n",
       " <keras.layers.convolutional.Conv2D at 0x1bc82880048>,\n",
       " <keras.layers.normalization.BatchNormalization at 0x1bc828ccc08>,\n",
       " <keras.layers.core.Activation at 0x1bc828cc888>,\n",
       " <keras.layers.convolutional.Conv2D at 0x1bc828cc688>,\n",
       " <keras.layers.normalization.BatchNormalization at 0x1bc828f4bc8>,\n",
       " <keras.layers.core.Activation at 0x1bc828f4f88>,\n",
       " <keras.layers.convolutional.Conv2D at 0x1bc82928488>,\n",
       " <keras.layers.convolutional.Conv2D at 0x1bc82975cc8>,\n",
       " <keras.layers.normalization.BatchNormalization at 0x1bc82942b08>,\n",
       " <keras.layers.normalization.BatchNormalization at 0x1bc82986b88>,\n",
       " <keras.layers.merge.Add at 0x1bc829a9108>,\n",
       " <keras.layers.core.Activation at 0x1bc829caf08>,\n",
       " <keras.layers.convolutional.Conv2D at 0x1bc829cac08>,\n",
       " <keras.layers.normalization.BatchNormalization at 0x1bc82a19dc8>,\n",
       " <keras.layers.core.Activation at 0x1bc82a19f88>,\n",
       " <keras.layers.convolutional.Conv2D at 0x1bc82a219c8>,\n",
       " <keras.layers.normalization.BatchNormalization at 0x1bc82a3ad88>,\n",
       " <keras.layers.core.Activation at 0x1bc82a4cb08>,\n",
       " <keras.layers.convolutional.Conv2D at 0x1bc82a74848>,\n",
       " <keras.layers.normalization.BatchNormalization at 0x1bc82a8c748>,\n",
       " <keras.layers.merge.Add at 0x1bc82ad2d88>,\n",
       " <keras.layers.core.Activation at 0x1bc82acb048>,\n",
       " <keras.layers.convolutional.Conv2D at 0x1bc82acbec8>,\n",
       " <keras.layers.normalization.BatchNormalization at 0x1bc82b17e08>,\n",
       " <keras.layers.core.Activation at 0x1bc82b17f88>,\n",
       " <keras.layers.convolutional.Conv2D at 0x1bc82b1e848>,\n",
       " <keras.layers.normalization.BatchNormalization at 0x1bc82b39a48>,\n",
       " <keras.layers.core.Activation at 0x1bc837c5cc8>,\n",
       " <keras.layers.convolutional.Conv2D at 0x1bc837cce48>,\n",
       " <keras.layers.normalization.BatchNormalization at 0x1bc837da888>,\n",
       " <keras.layers.merge.Add at 0x1bc837ec908>,\n",
       " <keras.layers.core.Activation at 0x1bc83817b48>,\n",
       " <keras.layers.convolutional.Conv2D at 0x1bc83817708>,\n",
       " <keras.layers.normalization.BatchNormalization at 0x1bc8386c8c8>,\n",
       " <keras.layers.core.Activation at 0x1bc8386c788>,\n",
       " <keras.layers.convolutional.Conv2D at 0x1bc83874f48>,\n",
       " <keras.layers.normalization.BatchNormalization at 0x1bc83893c88>,\n",
       " <keras.layers.core.Activation at 0x1bc83893d08>,\n",
       " <keras.layers.convolutional.Conv2D at 0x1bc838c8bc8>,\n",
       " <keras.layers.normalization.BatchNormalization at 0x1bc838e1f08>,\n",
       " <keras.layers.merge.Add at 0x1bc838e9a88>,\n",
       " <keras.layers.core.Activation at 0x1bc83916448>,\n",
       " <keras.layers.convolutional.Conv2D at 0x1bc83916ec8>,\n",
       " <keras.layers.normalization.BatchNormalization at 0x1bc83972c48>,\n",
       " <keras.layers.core.Activation at 0x1bc83972a48>,\n",
       " <keras.layers.convolutional.Conv2D at 0x1bc83972a08>,\n",
       " <keras.layers.normalization.BatchNormalization at 0x1bc83992ec8>,\n",
       " <keras.layers.core.Activation at 0x1bc83992e88>,\n",
       " <keras.layers.convolutional.Conv2D at 0x1bc839c3dc8>,\n",
       " <keras.layers.convolutional.Conv2D at 0x1bc839f9188>,\n",
       " <keras.layers.normalization.BatchNormalization at 0x1bc8236b188>,\n",
       " <keras.layers.normalization.BatchNormalization at 0x1bc83a1da08>,\n",
       " <keras.layers.merge.Add at 0x1bc83a2a948>,\n",
       " <keras.layers.core.Activation at 0x1bc83a48b88>,\n",
       " <keras.layers.convolutional.Conv2D at 0x1bc83a4ed08>,\n",
       " <keras.layers.normalization.BatchNormalization at 0x1bc83a9fe48>,\n",
       " <keras.layers.core.Activation at 0x1bc83a9fa08>,\n",
       " <keras.layers.convolutional.Conv2D at 0x1bc83aa8c08>,\n",
       " <keras.layers.normalization.BatchNormalization at 0x1bc83ac5f88>,\n",
       " <keras.layers.core.Activation at 0x1bc83ac92c8>,\n",
       " <keras.layers.convolutional.Conv2D at 0x1bc83afaa48>,\n",
       " <keras.layers.normalization.BatchNormalization at 0x1bc83b0eb48>,\n",
       " <keras.layers.merge.Add at 0x1bc83b0e208>,\n",
       " <keras.layers.core.Activation at 0x1bc83b4c408>,\n",
       " <keras.layers.convolutional.Conv2D at 0x1bc83b4cac8>,\n",
       " <keras.layers.normalization.BatchNormalization at 0x1bc83b9be88>,\n",
       " <keras.layers.core.Activation at 0x1bc83b9bf08>,\n",
       " <keras.layers.convolutional.Conv2D at 0x1bc83ba2808>,\n",
       " <keras.layers.normalization.BatchNormalization at 0x1bc83bb8c08>,\n",
       " <keras.layers.core.Activation at 0x1bc83bcaa88>,\n",
       " <keras.layers.convolutional.Conv2D at 0x1bc83bf4a48>,\n",
       " <keras.layers.normalization.BatchNormalization at 0x1bc83d4fc48>,\n",
       " <keras.layers.merge.Add at 0x1bc83d82748>,\n",
       " <keras.layers.core.Activation at 0x1bc83d79c88>,\n",
       " <keras.layers.convolutional.Conv2D at 0x1bc83d79888>,\n",
       " <keras.layers.normalization.BatchNormalization at 0x1bc83dce808>,\n",
       " <keras.layers.core.Activation at 0x1bc83dce948>,\n",
       " <keras.layers.convolutional.Conv2D at 0x1bc83dd5ec8>,\n",
       " <keras.layers.normalization.BatchNormalization at 0x1bc83df3ec8>,\n",
       " <keras.layers.core.Activation at 0x1bc83df3e08>,\n",
       " <keras.layers.convolutional.Conv2D at 0x1bc83e1fd08>,\n",
       " <keras.layers.normalization.BatchNormalization at 0x1bc862a2dc8>,\n",
       " <keras.layers.merge.Add at 0x1bc862a9f88>,\n",
       " <keras.layers.core.Activation at 0x1bc862d6b48>,\n",
       " <keras.layers.convolutional.Conv2D at 0x1bc862dcd08>,\n",
       " <keras.layers.normalization.BatchNormalization at 0x1bc86329e48>,\n",
       " <keras.layers.core.Activation at 0x1bc86329a08>,\n",
       " <keras.layers.convolutional.Conv2D at 0x1bc86332c08>,\n",
       " <keras.layers.normalization.BatchNormalization at 0x1bc8634ff88>,\n",
       " <keras.layers.core.Activation at 0x1bc863542c8>,\n",
       " <keras.layers.convolutional.Conv2D at 0x1bc86382a48>,\n",
       " <keras.layers.normalization.BatchNormalization at 0x1bc8639ab48>,\n",
       " <keras.layers.merge.Add at 0x1bc8639a208>,\n",
       " <keras.layers.core.Activation at 0x1bc863d93c8>,\n",
       " <keras.layers.convolutional.Conv2D at 0x1bc863d9a88>,\n",
       " <keras.layers.normalization.BatchNormalization at 0x1bc86428e08>,\n",
       " <keras.layers.core.Activation at 0x1bc86428fc8>,\n",
       " <keras.layers.convolutional.Conv2D at 0x1bc8642e7c8>,\n",
       " <keras.layers.normalization.BatchNormalization at 0x1bc86445bc8>,\n",
       " <keras.layers.core.Activation at 0x1bc86489748>,\n",
       " <keras.layers.convolutional.Conv2D at 0x1bc864811c8>,\n",
       " <keras.layers.normalization.BatchNormalization at 0x1bc8649b088>,\n",
       " <keras.layers.merge.Add at 0x1bc8691ed88>,\n",
       " <keras.layers.core.Activation at 0x1bc86917088>,\n",
       " <keras.layers.convolutional.Conv2D at 0x1bc86917ec8>,\n",
       " <keras.layers.normalization.BatchNormalization at 0x1bc8696b8c8>,\n",
       " <keras.layers.core.Activation at 0x1bc8696b788>,\n",
       " <keras.layers.convolutional.Conv2D at 0x1bc86973f88>,\n",
       " <keras.layers.normalization.BatchNormalization at 0x1bc8698fec8>,\n",
       " <keras.layers.core.Activation at 0x1bc8698fe88>,\n",
       " <keras.layers.convolutional.Conv2D at 0x1bc869c2dc8>,\n",
       " <keras.layers.convolutional.Conv2D at 0x1bc86b31c48>,\n",
       " <keras.layers.normalization.BatchNormalization at 0x1bc869dda08>,\n",
       " <keras.layers.normalization.BatchNormalization at 0x1bc8738aa48>,\n",
       " <keras.layers.merge.Add at 0x1bc873a8148>,\n",
       " <keras.layers.core.Activation at 0x1bc873c8f08>,\n",
       " <keras.layers.convolutional.Conv2D at 0x1bc873c8c08>,\n",
       " <keras.layers.normalization.BatchNormalization at 0x1bc87414c88>,\n",
       " <keras.layers.core.Activation at 0x1bc87414f48>,\n",
       " <keras.layers.convolutional.Conv2D at 0x1bc8741bb08>,\n",
       " <keras.layers.normalization.BatchNormalization at 0x1bc87436a48>,\n",
       " <keras.layers.core.Activation at 0x1bc87444d08>,\n",
       " <keras.layers.convolutional.Conv2D at 0x1bc87478e48>,\n",
       " <keras.layers.normalization.BatchNormalization at 0x1bc876ba808>,\n",
       " <keras.layers.merge.Add at 0x1bc876cca48>,\n",
       " <keras.layers.core.Activation at 0x1bc88936dc8>,\n",
       " <keras.layers.convolutional.Conv2D at 0x1bc88936b88>,\n",
       " <keras.layers.normalization.BatchNormalization at 0x1bc88988a88>,\n",
       " <keras.layers.core.Activation at 0x1bc88988608>,\n",
       " <keras.layers.convolutional.Conv2D at 0x1bc88992c48>,\n",
       " <keras.layers.normalization.BatchNormalization at 0x1bc889affc8>,\n",
       " <keras.layers.core.Activation at 0x1bc889afb08>,\n",
       " <keras.layers.convolutional.Conv2D at 0x1bc889e6348>,\n",
       " <keras.layers.normalization.BatchNormalization at 0x1bc88a07f48>,\n",
       " <keras.layers.merge.Add at 0x1bc88a011c8>,\n",
       " <keras.layers.core.Activation at 0x1bc88dd5ac8>,\n",
       " <keras.layers.pooling.GlobalAveragePooling2D at 0x1bc8894e6c8>,\n",
       " <keras.layers.core.Dense at 0x1bc88df3988>]"
      ]
     },
     "execution_count": 4,
     "metadata": {},
     "output_type": "execute_result"
    }
   ],
   "source": [
    " model.layers"
   ]
  },
  {
   "cell_type": "code",
   "execution_count": 5,
   "metadata": {},
   "outputs": [
    {
     "data": {
      "text/plain": [
       "<tf.Tensor 'input_2:0' shape=(None, 224, 224, 3) dtype=float32>"
      ]
     },
     "execution_count": 5,
     "metadata": {},
     "output_type": "execute_result"
    }
   ],
   "source": [
    "model.layers[0].input"
   ]
  },
  {
   "cell_type": "code",
   "execution_count": 6,
   "metadata": {},
   "outputs": [],
   "source": [
    "from keras.preprocessing import image"
   ]
  },
  {
   "cell_type": "code",
   "execution_count": 7,
   "metadata": {},
   "outputs": [],
   "source": [
    "    img = image.load_img('cat_or_dog_1.jpg',target_size=(224, 224))"
   ]
  },
  {
   "cell_type": "code",
   "execution_count": 8,
   "metadata": {},
   "outputs": [
    {
     "data": {
      "text/plain": [
       "PIL.Image.Image"
      ]
     },
     "execution_count": 8,
     "metadata": {},
     "output_type": "execute_result"
    }
   ],
   "source": [
    "type(img)"
   ]
  },
  {
   "cell_type": "code",
   "execution_count": 9,
   "metadata": {},
   "outputs": [],
   "source": [
    "img_np=image.img_to_array(img)"
   ]
  },
  {
   "cell_type": "code",
   "execution_count": 10,
   "metadata": {},
   "outputs": [],
   "source": [
    "import numpy as np"
   ]
  },
  {
   "cell_type": "code",
   "execution_count": 11,
   "metadata": {},
   "outputs": [],
   "source": [
    "img_4d =np.expand_dims(img_np,axis=0)"
   ]
  },
  {
   "cell_type": "code",
   "execution_count": 12,
   "metadata": {},
   "outputs": [
    {
     "data": {
      "text/plain": [
       "(1, 224, 224, 3)"
      ]
     },
     "execution_count": 12,
     "metadata": {},
     "output_type": "execute_result"
    }
   ],
   "source": [
    "img_4d.shape"
   ]
  },
  {
   "cell_type": "code",
   "execution_count": 13,
   "metadata": {},
   "outputs": [],
   "source": [
    "from keras.applications.resnet50 import decode_predictions"
   ]
  },
  {
   "cell_type": "code",
   "execution_count": 14,
   "metadata": {},
   "outputs": [],
   "source": [
    "from keras.applications.resnet50 import preprocess_input"
   ]
  },
  {
   "cell_type": "code",
   "execution_count": 15,
   "metadata": {},
   "outputs": [],
   "source": [
    "imgnew = preprocess_input(img_4d)"
   ]
  },
  {
   "cell_type": "code",
   "execution_count": 16,
   "metadata": {},
   "outputs": [],
   "source": [
    "pred = model.predict(imgnew)"
   ]
  },
  {
   "cell_type": "code",
   "execution_count": 17,
   "metadata": {},
   "outputs": [
    {
     "data": {
      "text/plain": [
       "[('n02099712', 'Labrador_retriever', 0.71248275),\n",
       " ('n02099601', 'golden_retriever', 0.25235447),\n",
       " ('n02087394', 'Rhodesian_ridgeback', 0.016212251)]"
      ]
     },
     "execution_count": 17,
     "metadata": {},
     "output_type": "execute_result"
    }
   ],
   "source": [
    "decode_predictions(pred,top=3)[0]"
   ]
  },
  {
   "cell_type": "code",
   "execution_count": null,
   "metadata": {},
   "outputs": [],
   "source": []
  }
 ],
 "metadata": {
  "kernelspec": {
   "display_name": "Python 3",
   "language": "python",
   "name": "python3"
  },
  "language_info": {
   "codemirror_mode": {
    "name": "ipython",
    "version": 3
   },
   "file_extension": ".py",
   "mimetype": "text/x-python",
   "name": "python",
   "nbconvert_exporter": "python",
   "pygments_lexer": "ipython3",
   "version": "3.7.7"
  }
 },
 "nbformat": 4,
 "nbformat_minor": 4
}
